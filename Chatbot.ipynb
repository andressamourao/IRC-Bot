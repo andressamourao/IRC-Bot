{
 "cells": [
  {
   "cell_type": "code",
   "execution_count": 3,
   "id": "1ab16987",
   "metadata": {},
   "outputs": [
    {
     "name": "stdout",
     "output_type": "stream",
     "text": [
      "✔ Download and installation successful\n",
      "You can now load the package via spacy.load('en_core_web_sm')\n"
     ]
    }
   ],
   "source": [
    "from chatterbot import ChatBot\n",
    "from chatterbot.trainers import ListTrainer\n",
    "\n",
    "# corrigir incompatibilidade do chatterbot \n",
    "from spacy.cli import download\n",
    "\n",
    "download(\"en_core_web_sm\")\n",
    "\n",
    "class ENGSM:\n",
    "    ISO_639_1 = 'en_core_web_sm'"
   ]
  },
  {
   "cell_type": "code",
   "execution_count": 4,
   "id": "0acf2bcd",
   "metadata": {},
   "outputs": [
    {
     "name": "stdout",
     "output_type": "stream",
     "text": [
      "List Trainer: [####################] 100%\n"
     ]
    }
   ],
   "source": [
    "chatbot = ChatBot('dd', tagger_language=ENGSM)\n",
    "\n",
    "conversa = [\n",
    "    \"Olá\",\n",
    "    \"Oi! Como vai?\",\n",
    "    \"Tudo ótimo!\",\n",
    "    \"Qual a boa de hoje?\",\n",
    "    \"Criar meu primeiro chatbot\",\n",
    "    \"Do zero?\",\n",
    "    \"Sim!\",\n",
    "    \"Que Massa!\"\n",
    "]\n",
    "\n",
    "trainer = ListTrainer(chatbot)\n",
    "trainer.train(conversa)"
   ]
  },
  {
   "cell_type": "code",
   "execution_count": null,
   "id": "75499ccd",
   "metadata": {},
   "outputs": [
    {
     "name": "stdout",
     "output_type": "stream",
     "text": [
      "Olá! Como posso ajudar?Olá\n",
      "Oi! Como vai?\n",
      "Olá! Como posso ajudar?Tudo bem\n",
      "Que Massa!\n",
      "Olá! Como posso ajudar?Quero fazer algo\n",
      "Olá\n",
      "Olá! Como posso ajudar?Olá\n",
      "Oi! Como vai?\n",
      "Olá! Como posso ajudar?Tudo ótimo!\n",
      "Qual a boa de hoje?\n",
      "Olá! Como posso ajudar?Chatbot?\n",
      "Criando do zero?\n",
      "Olá! Como posso ajudar?Sim!\n",
      "Que Massa!\n"
     ]
    }
   ],
   "source": [
    "while True:\n",
    "    mensagem = input('Olá! Como posso ajudar?')\n",
    "    if mensagem == 'parar' or mensagem == 'nada':\n",
    "        print('Poxa, tem certeza? Qualquer coisa estamos aqui, é só chamar!')\n",
    "        break\n",
    "    resposta = chatbot.get_response(mensagem) \n",
    "    print(resposta)"
   ]
  },
  {
   "cell_type": "code",
   "execution_count": null,
   "id": "718dd9f6",
   "metadata": {},
   "outputs": [],
   "source": [
    "# to clean the database created from the user's answers\n",
    "chatbot.storage.drop()"
   ]
  },
  {
   "cell_type": "code",
   "execution_count": null,
   "id": "a616b10c",
   "metadata": {},
   "outputs": [],
   "source": []
  }
 ],
 "metadata": {
  "kernelspec": {
   "display_name": "Python 3",
   "language": "python",
   "name": "python3"
  },
  "language_info": {
   "codemirror_mode": {
    "name": "ipython",
    "version": 3
   },
   "file_extension": ".py",
   "mimetype": "text/x-python",
   "name": "python",
   "nbconvert_exporter": "python",
   "pygments_lexer": "ipython3",
   "version": "3.6.13"
  }
 },
 "nbformat": 4,
 "nbformat_minor": 5
}
